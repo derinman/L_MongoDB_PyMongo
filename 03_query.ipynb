{
 "cells": [
  {
   "attachments": {},
   "cell_type": "markdown",
   "metadata": {},
   "source": [
    "查詢 sites 文檔中的第一條數據"
   ]
  },
  {
   "cell_type": "code",
   "execution_count": 1,
   "metadata": {},
   "outputs": [
    {
     "name": "stdout",
     "output_type": "stream",
     "text": [
      "{'_id': ObjectId('642ed0ccd8598cd0c53ef279'),\n",
      " 'alexa': '10000',\n",
      " 'name': 'RUNOOB',\n",
      " 'url': 'https://www.runoob.com'}\n"
     ]
    }
   ],
   "source": [
    "import pymongo\n",
    "from pprint import pprint\n",
    " \n",
    "myclient = pymongo.MongoClient(\"mongodb://localhost:27017/\")\n",
    "mydb = myclient[\"runoobdb\"]\n",
    "mycol = mydb[\"sites\"]\n",
    " \n",
    "x = mycol.find_one()\n",
    "\n",
    "pprint(x)"
   ]
  },
  {
   "cell_type": "markdown",
   "metadata": {},
   "source": [
    "查询集合中所有数据"
   ]
  },
  {
   "cell_type": "code",
   "execution_count": 4,
   "metadata": {},
   "outputs": [
    {
     "name": "stdout",
     "output_type": "stream",
     "text": [
      "{'_id': 1, 'cn_name': '菜鸟教程', 'name': 'RUNOOB'}\n",
      "{'_id': 2, 'address': 'Google 搜索', 'name': 'Google'}\n",
      "{'_id': 3, 'address': '脸书', 'name': 'Facebook'}\n",
      "{'_id': 4, 'address': '淘宝', 'name': 'Taobao'}\n",
      "{'_id': 5, 'address': '知乎', 'name': 'Zhihu'}\n"
     ]
    }
   ],
   "source": [
    "import pymongo\n",
    "from pprint import pprint\n",
    " \n",
    "myclient = pymongo.MongoClient(\"mongodb://localhost:27017/\")\n",
    "mydb = myclient[\"runoobdb\"]\n",
    "mycol = mydb[\"site2\"]\n",
    "\n",
    "for x in mycol.find():\n",
    "  pprint(x)"
   ]
  },
  {
   "cell_type": "code",
   "execution_count": 5,
   "metadata": {},
   "outputs": [],
   "source": [
    "# more info about query:\n",
    "# https://www.runoob.com/python3/python-mongodb-query-document.html"
   ]
  }
 ],
 "metadata": {
  "kernelspec": {
   "display_name": "norm",
   "language": "python",
   "name": "python3"
  },
  "language_info": {
   "codemirror_mode": {
    "name": "ipython",
    "version": 3
   },
   "file_extension": ".py",
   "mimetype": "text/x-python",
   "name": "python",
   "nbconvert_exporter": "python",
   "pygments_lexer": "ipython3",
   "version": "3.8.13"
  },
  "orig_nbformat": 4,
  "vscode": {
   "interpreter": {
    "hash": "ab49506de734c46ddf3da1d138602e84b63862788478f9f9fc5b5147bbdf6ca9"
   }
  }
 },
 "nbformat": 4,
 "nbformat_minor": 2
}
