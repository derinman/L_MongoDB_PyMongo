{
 "cells": [
  {
   "cell_type": "code",
   "execution_count": null,
   "metadata": {},
   "outputs": [],
   "source": [
    "# MongoDB安裝在Ubuntu:\n",
    "# https://www.mongodb.com/docs/v6.0/tutorial/install-mongodb-on-ubuntu/\n",
    "#     確認安裝: apt list | grep mongo\n",
    "#     啟動: sudo systemctl start mongod\n",
    "#     確認: sudo systemctl status mongod"
   ]
  },
  {
   "cell_type": "code",
   "execution_count": null,
   "metadata": {},
   "outputs": [],
   "source": [
    "# PyMongo安裝在Anaconda\n",
    "# https://anaconda.org/anaconda/pymongo\n",
    "# conda install -c anaconda pymongo"
   ]
  }
 ],
 "metadata": {
  "language_info": {
   "name": "python"
  },
  "orig_nbformat": 4
 },
 "nbformat": 4,
 "nbformat_minor": 2
}
