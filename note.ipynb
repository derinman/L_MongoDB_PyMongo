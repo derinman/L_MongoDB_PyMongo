{
 "cells": [
  {
   "cell_type": "code",
   "execution_count": null,
   "metadata": {},
   "outputs": [],
   "source": [
    "# MongoDB安裝在Ubuntu:\n",
    "# https://www.mongodb.com/docs/v6.0/tutorial/install-mongodb-on-ubuntu/\n",
    "#     啟動: sudo systemctl start mongod\n",
    "#     確認: sudo systemctl status mongod\n",
    "#     停止: sudo systemctl stop mongod\n",
    "\n",
    "#     設定開機自動啟動: sudo systemctl enable mongod\n",
    "#     取消開機自動啟動: sudo systemctl disable mongod"
   ]
  },
  {
   "cell_type": "code",
   "execution_count": null,
   "metadata": {},
   "outputs": [],
   "source": [
    "# PyMongo安裝在Anaconda\n",
    "# https://anaconda.org/anaconda/pymongo\n",
    "# conda install -c anaconda pymongo"
   ]
  },
  {
   "cell_type": "code",
   "execution_count": null,
   "metadata": {},
   "outputs": [],
   "source": [
    "# 官方教學\n",
    "# https://pymongo.readthedocs.io/en/stable/tutorial.html"
   ]
  },
  {
   "cell_type": "code",
   "execution_count": null,
   "metadata": {},
   "outputs": [],
   "source": [
    "# 簡易教學\n",
    "# https://www.runoob.com/python3/python-mongodb.html\n",
    "\n",
    "# https://www.w3schools.com/python/python_mongodb_getstarted.asp"
   ]
  },
  {
   "cell_type": "code",
   "execution_count": null,
   "metadata": {},
   "outputs": [],
   "source": [
    "# 重要好文\n",
    "\n",
    "# Perform MongoDB Indexing using PyMongo：\n",
    "# https://www.analyticsvidhya.com/blog/2020/09/mongodb-indexes-pymongo-tutorial/"
   ]
  },
  {
   "cell_type": "markdown",
   "metadata": {},
   "source": [
    "Important: In MongoDB, a collection is not created until it gets content!\n",
    "\n",
    "MongoDB waits until you have inserted a document before it actually creates the collection."
   ]
  },
  {
   "cell_type": "markdown",
   "metadata": {},
   "source": [
    "what's cursor\n",
    "\n",
    "Cursor class to iterate over Mongo query results.\n",
    "\n",
    "類似generator"
   ]
  },
  {
   "attachments": {},
   "cell_type": "markdown",
   "metadata": {},
   "source": [
    "_id 是特殊欄位\n",
    "\n",
    "If you do not specify an _id field, then MongoDB will add one for you and assign a unique id for each document.\n",
    "\n",
    "In the example above no _id field was specified, so MongoDB assigned a unique _id for the record (document)."
   ]
  }
 ],
 "metadata": {
  "kernelspec": {
   "display_name": "Python 3",
   "language": "python",
   "name": "python3"
  },
  "language_info": {
   "name": "python",
   "version": "3.8.10"
  },
  "orig_nbformat": 4,
  "vscode": {
   "interpreter": {
    "hash": "916dbcbb3f70747c44a77c7bcd40155683ae19c65e1c03b4aa3499c5328201f1"
   }
  }
 },
 "nbformat": 4,
 "nbformat_minor": 2
}
