{
 "cells": [
  {
   "attachments": {},
   "cell_type": "markdown",
   "metadata": {},
   "source": [
    "插入一個"
   ]
  },
  {
   "cell_type": "code",
   "execution_count": 1,
   "metadata": {},
   "outputs": [
    {
     "name": "stdout",
     "output_type": "stream",
     "text": [
      "<pymongo.results.InsertOneResult object at 0x7f68b82a3ac0>\n"
     ]
    }
   ],
   "source": [
    "import pymongo\n",
    "from pprint import pprint\n",
    "\n",
    "myclient = pymongo.MongoClient(\"mongodb://localhost:27017/\")\n",
    "mydb = myclient[\"runoobdb\"]\n",
    "mycol = mydb[\"sites\"]\n",
    " \n",
    "mydict = { \"name\": \"RUNOOB\", \"alexa\": \"10000\", \"url\": \"https://www.runoob.com\" }\n",
    " \n",
    "x = mycol.insert_one(mydict) \n",
    "pprint(x)\n",
    "# print(x)"
   ]
  },
  {
   "cell_type": "code",
   "execution_count": 3,
   "metadata": {},
   "outputs": [
    {
     "name": "stdout",
     "output_type": "stream",
     "text": [
      "ObjectId('642eb6ba231deb00491cd59e')\n"
     ]
    }
   ],
   "source": [
    "import pymongo\n",
    "from pprint import pprint\n",
    " \n",
    "myclient = pymongo.MongoClient('mongodb://localhost:27017/')\n",
    "mydb = myclient['runoobdb']\n",
    "mycol = mydb[\"sites\"]\n",
    " \n",
    "mydict = { \"name\": \"Google\", \"alexa\": \"1\", \"url\": \"https://www.google.com\" }\n",
    " \n",
    "x = mycol.insert_one(mydict)\n",
    " \n",
    "pprint(x.inserted_id)"
   ]
  },
  {
   "cell_type": "markdown",
   "metadata": {},
   "source": [
    "插入多個"
   ]
  },
  {
   "cell_type": "code",
   "execution_count": 2,
   "metadata": {},
   "outputs": [
    {
     "name": "stdout",
     "output_type": "stream",
     "text": [
      "[ObjectId('642eb9fd642641bf4f18f6d5'),\n",
      " ObjectId('642eb9fd642641bf4f18f6d6'),\n",
      " ObjectId('642eb9fd642641bf4f18f6d7'),\n",
      " ObjectId('642eb9fd642641bf4f18f6d8'),\n",
      " ObjectId('642eb9fd642641bf4f18f6d9')]\n"
     ]
    }
   ],
   "source": [
    "import pymongo\n",
    "from pprint import pprint\n",
    "\n",
    "myclient = pymongo.MongoClient(\"mongodb://localhost:27017/\")\n",
    "mydb = myclient[\"runoobdb\"]\n",
    "mycol = mydb[\"sites\"]\n",
    " \n",
    "mylist = [\n",
    "  { \"name\": \"Taobao\", \"alexa\": \"100\", \"url\": \"https://www.taobao.com\" },\n",
    "  { \"name\": \"QQ\", \"alexa\": \"101\", \"url\": \"https://www.qq.com\" },\n",
    "  { \"name\": \"Facebook\", \"alexa\": \"10\", \"url\": \"https://www.facebook.com\" },\n",
    "  { \"name\": \"知乎\", \"alexa\": \"103\", \"url\": \"https://www.zhihu.com\" },\n",
    "  { \"name\": \"Github\", \"alexa\": \"109\", \"url\": \"https://www.github.com\" }\n",
    "]\n",
    " \n",
    "x = mycol.insert_many(mylist)\n",
    " \n",
    "# 输出插入的所有文档对应的 _id 值\n",
    "pprint(x.inserted_ids)"
   ]
  },
  {
   "cell_type": "markdown",
   "metadata": {},
   "source": [
    "插入多個(自己指定id)"
   ]
  },
  {
   "cell_type": "code",
   "execution_count": 4,
   "metadata": {},
   "outputs": [
    {
     "name": "stdout",
     "output_type": "stream",
     "text": [
      "[1, 2, 3, 4, 5]\n"
     ]
    }
   ],
   "source": [
    "import pymongo\n",
    "from pprint import pprint\n",
    " \n",
    "myclient = pymongo.MongoClient(\"mongodb://localhost:27017/\")\n",
    "mydb = myclient[\"runoobdb\"]\n",
    "mycol = mydb[\"site2\"]\n",
    " \n",
    "mylist = [\n",
    "  { \"_id\": 1, \"name\": \"RUNOOB\", \"cn_name\": \"菜鸟教程\"},\n",
    "  { \"_id\": 2, \"name\": \"Google\", \"address\": \"Google 搜索\"},\n",
    "  { \"_id\": 3, \"name\": \"Facebook\", \"address\": \"脸书\"},\n",
    "  { \"_id\": 4, \"name\": \"Taobao\", \"address\": \"淘宝\"},\n",
    "  { \"_id\": 5, \"name\": \"Zhihu\", \"address\": \"知乎\"}\n",
    "]\n",
    " \n",
    "x = mycol.insert_many(mylist)\n",
    " \n",
    "# 输出插入的所有文档对应的 _id 值\n",
    "pprint(x.inserted_ids)"
   ]
  }
 ],
 "metadata": {
  "kernelspec": {
   "display_name": "norm",
   "language": "python",
   "name": "python3"
  },
  "language_info": {
   "codemirror_mode": {
    "name": "ipython",
    "version": 3
   },
   "file_extension": ".py",
   "mimetype": "text/x-python",
   "name": "python",
   "nbconvert_exporter": "python",
   "pygments_lexer": "ipython3",
   "version": "3.8.13"
  },
  "orig_nbformat": 4
 },
 "nbformat": 4,
 "nbformat_minor": 2
}
